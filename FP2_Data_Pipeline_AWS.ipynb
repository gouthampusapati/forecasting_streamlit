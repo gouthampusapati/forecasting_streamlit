{
  "nbformat": 4,
  "nbformat_minor": 0,
  "metadata": {
    "colab": {
      "provenance": [],
      "toc_visible": true
    },
    "kernelspec": {
      "name": "python3",
      "display_name": "Python 3"
    },
    "language_info": {
      "name": "python"
    }
  },
  "cells": [
    {
      "cell_type": "markdown",
      "source": [
        "**Data Pipeline:**"
      ],
      "metadata": {
        "id": "MMUFS7-fY_9P"
      }
    },
    {
      "cell_type": "markdown",
      "source": [
        "# New Section"
      ],
      "metadata": {
        "id": "gkEcVpLU3mAJ"
      }
    },
    {
      "cell_type": "code",
      "execution_count": null,
      "metadata": {
        "id": "K7TREIWPVmGO",
        "colab": {
          "base_uri": "https://localhost:8080/"
        },
        "outputId": "ccbd5fc5-4bd5-4dd0-b094-5d38d1966eee"
      },
      "outputs": [
        {
          "output_type": "stream",
          "name": "stdout",
          "text": [
            "Mounted at /content/drive\n"
          ]
        }
      ],
      "source": [
        "# Mount Google Drive\n",
        "from google.colab import drive\n",
        "drive.mount('/content/drive')"
      ]
    },
    {
      "cell_type": "code",
      "source": [
        "# Setup working directory\n",
        "%cd /content/drive/My Drive/Colab Notebooks/FP2"
      ],
      "metadata": {
        "id": "9KQWMkvEZAt2",
        "colab": {
          "base_uri": "https://localhost:8080/"
        },
        "outputId": "4165f5b7-a479-4d06-ea41-c08fecf8c688"
      },
      "execution_count": null,
      "outputs": [
        {
          "output_type": "stream",
          "name": "stdout",
          "text": [
            "/content/drive/My Drive/Colab Notebooks/FP2\n"
          ]
        }
      ]
    },
    {
      "cell_type": "code",
      "source": [
        "# Create requirements file\n",
        "%%writefile data_pipeline_requirements.txt\n",
        "\n",
        "yfinance>=0.1.55\n",
        "numpy>=1.12.0\n",
        "pandas>=0.19\n",
        "yahoo_fin\n",
        "psycopg2"
      ],
      "metadata": {
        "id": "qA0xqGTnZUsU",
        "colab": {
          "base_uri": "https://localhost:8080/"
        },
        "outputId": "6057996c-0a18-4055-95f8-eb6aa602eeb8"
      },
      "execution_count": null,
      "outputs": [
        {
          "output_type": "stream",
          "name": "stdout",
          "text": [
            "Overwriting data_pipeline_requirements.txt\n"
          ]
        }
      ]
    },
    {
      "cell_type": "code",
      "source": [
        " !pip install -r data_pipeline_requirements.txt"
      ],
      "metadata": {
        "id": "i44IANmYZY2u",
        "colab": {
          "base_uri": "https://localhost:8080/"
        },
        "outputId": "7b0795f7-f83b-4d50-fc56-9015874c7a48"
      },
      "execution_count": null,
      "outputs": [
        {
          "output_type": "stream",
          "name": "stdout",
          "text": [
            "Requirement already satisfied: yfinance>=0.1.55 in /usr/local/lib/python3.10/dist-packages (from -r data_pipeline_requirements.txt (line 2)) (0.2.32)\n",
            "Requirement already satisfied: numpy>=1.12.0 in /usr/local/lib/python3.10/dist-packages (from -r data_pipeline_requirements.txt (line 3)) (1.23.5)\n",
            "Requirement already satisfied: pandas>=0.19 in /usr/local/lib/python3.10/dist-packages (from -r data_pipeline_requirements.txt (line 4)) (1.5.3)\n",
            "Collecting yahoo_fin (from -r data_pipeline_requirements.txt (line 5))\n",
            "  Downloading yahoo_fin-0.8.9.1-py3-none-any.whl (10 kB)\n",
            "Requirement already satisfied: psycopg2 in /usr/local/lib/python3.10/dist-packages (from -r data_pipeline_requirements.txt (line 6)) (2.9.9)\n",
            "Requirement already satisfied: requests>=2.31 in /usr/local/lib/python3.10/dist-packages (from yfinance>=0.1.55->-r data_pipeline_requirements.txt (line 2)) (2.31.0)\n",
            "Requirement already satisfied: multitasking>=0.0.7 in /usr/local/lib/python3.10/dist-packages (from yfinance>=0.1.55->-r data_pipeline_requirements.txt (line 2)) (0.0.11)\n",
            "Requirement already satisfied: lxml>=4.9.1 in /usr/local/lib/python3.10/dist-packages (from yfinance>=0.1.55->-r data_pipeline_requirements.txt (line 2)) (4.9.3)\n",
            "Requirement already satisfied: appdirs>=1.4.4 in /usr/local/lib/python3.10/dist-packages (from yfinance>=0.1.55->-r data_pipeline_requirements.txt (line 2)) (1.4.4)\n",
            "Requirement already satisfied: pytz>=2022.5 in /usr/local/lib/python3.10/dist-packages (from yfinance>=0.1.55->-r data_pipeline_requirements.txt (line 2)) (2023.3.post1)\n",
            "Requirement already satisfied: frozendict>=2.3.4 in /usr/local/lib/python3.10/dist-packages (from yfinance>=0.1.55->-r data_pipeline_requirements.txt (line 2)) (2.3.10)\n",
            "Requirement already satisfied: peewee>=3.16.2 in /usr/local/lib/python3.10/dist-packages (from yfinance>=0.1.55->-r data_pipeline_requirements.txt (line 2)) (3.17.0)\n",
            "Requirement already satisfied: beautifulsoup4>=4.11.1 in /usr/local/lib/python3.10/dist-packages (from yfinance>=0.1.55->-r data_pipeline_requirements.txt (line 2)) (4.11.2)\n",
            "Requirement already satisfied: html5lib>=1.1 in /usr/local/lib/python3.10/dist-packages (from yfinance>=0.1.55->-r data_pipeline_requirements.txt (line 2)) (1.1)\n",
            "Requirement already satisfied: python-dateutil>=2.8.1 in /usr/local/lib/python3.10/dist-packages (from pandas>=0.19->-r data_pipeline_requirements.txt (line 4)) (2.8.2)\n",
            "Collecting requests-html (from yahoo_fin->-r data_pipeline_requirements.txt (line 5))\n",
            "  Downloading requests_html-0.10.0-py3-none-any.whl (13 kB)\n",
            "Collecting feedparser (from yahoo_fin->-r data_pipeline_requirements.txt (line 5))\n",
            "  Downloading feedparser-6.0.10-py3-none-any.whl (81 kB)\n",
            "\u001b[2K     \u001b[90m━━━━━━━━━━━━━━━━━━━━━━━━━━━━━━━━━━━━━━━━\u001b[0m \u001b[32m81.1/81.1 kB\u001b[0m \u001b[31m2.8 MB/s\u001b[0m eta \u001b[36m0:00:00\u001b[0m\n",
            "\u001b[?25hRequirement already satisfied: soupsieve>1.2 in /usr/local/lib/python3.10/dist-packages (from beautifulsoup4>=4.11.1->yfinance>=0.1.55->-r data_pipeline_requirements.txt (line 2)) (2.5)\n",
            "Requirement already satisfied: six>=1.9 in /usr/local/lib/python3.10/dist-packages (from html5lib>=1.1->yfinance>=0.1.55->-r data_pipeline_requirements.txt (line 2)) (1.16.0)\n",
            "Requirement already satisfied: webencodings in /usr/local/lib/python3.10/dist-packages (from html5lib>=1.1->yfinance>=0.1.55->-r data_pipeline_requirements.txt (line 2)) (0.5.1)\n",
            "Requirement already satisfied: charset-normalizer<4,>=2 in /usr/local/lib/python3.10/dist-packages (from requests>=2.31->yfinance>=0.1.55->-r data_pipeline_requirements.txt (line 2)) (3.3.2)\n",
            "Requirement already satisfied: idna<4,>=2.5 in /usr/local/lib/python3.10/dist-packages (from requests>=2.31->yfinance>=0.1.55->-r data_pipeline_requirements.txt (line 2)) (3.6)\n",
            "Requirement already satisfied: urllib3<3,>=1.21.1 in /usr/local/lib/python3.10/dist-packages (from requests>=2.31->yfinance>=0.1.55->-r data_pipeline_requirements.txt (line 2)) (2.0.7)\n",
            "Requirement already satisfied: certifi>=2017.4.17 in /usr/local/lib/python3.10/dist-packages (from requests>=2.31->yfinance>=0.1.55->-r data_pipeline_requirements.txt (line 2)) (2023.11.17)\n",
            "Collecting sgmllib3k (from feedparser->yahoo_fin->-r data_pipeline_requirements.txt (line 5))\n",
            "  Downloading sgmllib3k-1.0.0.tar.gz (5.8 kB)\n",
            "  Preparing metadata (setup.py) ... \u001b[?25l\u001b[?25hdone\n",
            "Collecting pyquery (from requests-html->yahoo_fin->-r data_pipeline_requirements.txt (line 5))\n",
            "  Downloading pyquery-2.0.0-py3-none-any.whl (22 kB)\n",
            "Collecting fake-useragent (from requests-html->yahoo_fin->-r data_pipeline_requirements.txt (line 5))\n",
            "  Downloading fake_useragent-1.4.0-py3-none-any.whl (15 kB)\n",
            "Collecting parse (from requests-html->yahoo_fin->-r data_pipeline_requirements.txt (line 5))\n",
            "  Downloading parse-1.20.0-py2.py3-none-any.whl (19 kB)\n",
            "Collecting bs4 (from requests-html->yahoo_fin->-r data_pipeline_requirements.txt (line 5))\n",
            "  Downloading bs4-0.0.1.tar.gz (1.1 kB)\n",
            "  Preparing metadata (setup.py) ... \u001b[?25l\u001b[?25hdone\n",
            "Collecting w3lib (from requests-html->yahoo_fin->-r data_pipeline_requirements.txt (line 5))\n",
            "  Downloading w3lib-2.1.2-py3-none-any.whl (21 kB)\n",
            "Collecting pyppeteer>=0.0.14 (from requests-html->yahoo_fin->-r data_pipeline_requirements.txt (line 5))\n",
            "  Downloading pyppeteer-1.0.2-py3-none-any.whl (83 kB)\n",
            "\u001b[2K     \u001b[90m━━━━━━━━━━━━━━━━━━━━━━━━━━━━━━━━━━━━━━━━\u001b[0m \u001b[32m83.4/83.4 kB\u001b[0m \u001b[31m9.8 MB/s\u001b[0m eta \u001b[36m0:00:00\u001b[0m\n",
            "\u001b[?25hRequirement already satisfied: importlib-metadata>=1.4 in /usr/local/lib/python3.10/dist-packages (from pyppeteer>=0.0.14->requests-html->yahoo_fin->-r data_pipeline_requirements.txt (line 5)) (6.8.0)\n",
            "Collecting pyee<9.0.0,>=8.1.0 (from pyppeteer>=0.0.14->requests-html->yahoo_fin->-r data_pipeline_requirements.txt (line 5))\n",
            "  Downloading pyee-8.2.2-py2.py3-none-any.whl (12 kB)\n",
            "Requirement already satisfied: tqdm<5.0.0,>=4.42.1 in /usr/local/lib/python3.10/dist-packages (from pyppeteer>=0.0.14->requests-html->yahoo_fin->-r data_pipeline_requirements.txt (line 5)) (4.66.1)\n",
            "Collecting urllib3<3,>=1.21.1 (from requests>=2.31->yfinance>=0.1.55->-r data_pipeline_requirements.txt (line 2))\n",
            "  Downloading urllib3-1.26.18-py2.py3-none-any.whl (143 kB)\n",
            "\u001b[2K     \u001b[90m━━━━━━━━━━━━━━━━━━━━━━━━━━━━━━━━━━━━━━━━\u001b[0m \u001b[32m143.8/143.8 kB\u001b[0m \u001b[31m14.0 MB/s\u001b[0m eta \u001b[36m0:00:00\u001b[0m\n",
            "\u001b[?25hCollecting websockets<11.0,>=10.0 (from pyppeteer>=0.0.14->requests-html->yahoo_fin->-r data_pipeline_requirements.txt (line 5))\n",
            "  Downloading websockets-10.4-cp310-cp310-manylinux_2_5_x86_64.manylinux1_x86_64.manylinux_2_17_x86_64.manylinux2014_x86_64.whl (106 kB)\n",
            "\u001b[2K     \u001b[90m━━━━━━━━━━━━━━━━━━━━━━━━━━━━━━━━━━━━━━━━\u001b[0m \u001b[32m106.8/106.8 kB\u001b[0m \u001b[31m9.1 MB/s\u001b[0m eta \u001b[36m0:00:00\u001b[0m\n",
            "\u001b[?25hCollecting cssselect>=1.2.0 (from pyquery->requests-html->yahoo_fin->-r data_pipeline_requirements.txt (line 5))\n",
            "  Downloading cssselect-1.2.0-py2.py3-none-any.whl (18 kB)\n",
            "Requirement already satisfied: zipp>=0.5 in /usr/local/lib/python3.10/dist-packages (from importlib-metadata>=1.4->pyppeteer>=0.0.14->requests-html->yahoo_fin->-r data_pipeline_requirements.txt (line 5)) (3.17.0)\n",
            "Building wheels for collected packages: bs4, sgmllib3k\n",
            "  Building wheel for bs4 (setup.py) ... \u001b[?25l\u001b[?25hdone\n",
            "  Created wheel for bs4: filename=bs4-0.0.1-py3-none-any.whl size=1256 sha256=e39e461ee2200439ce5267781ce4556652c0c9fab7f33e0f6504bcc2e81ef314\n",
            "  Stored in directory: /root/.cache/pip/wheels/25/42/45/b773edc52acb16cd2db4cf1a0b47117e2f69bb4eb300ed0e70\n",
            "  Building wheel for sgmllib3k (setup.py) ... \u001b[?25l\u001b[?25hdone\n",
            "  Created wheel for sgmllib3k: filename=sgmllib3k-1.0.0-py3-none-any.whl size=6048 sha256=dde44e9170ec4e12fc1537d85496a55ca7da0b8669e9735a3dcacf41d964e0ab\n",
            "  Stored in directory: /root/.cache/pip/wheels/f0/69/93/a47e9d621be168e9e33c7ce60524393c0b92ae83cf6c6e89c5\n",
            "Successfully built bs4 sgmllib3k\n",
            "Installing collected packages: sgmllib3k, pyee, parse, fake-useragent, websockets, w3lib, urllib3, feedparser, cssselect, pyquery, pyppeteer, bs4, requests-html, yahoo_fin\n",
            "  Attempting uninstall: urllib3\n",
            "    Found existing installation: urllib3 2.0.7\n",
            "    Uninstalling urllib3-2.0.7:\n",
            "      Successfully uninstalled urllib3-2.0.7\n",
            "Successfully installed bs4-0.0.1 cssselect-1.2.0 fake-useragent-1.4.0 feedparser-6.0.10 parse-1.20.0 pyee-8.2.2 pyppeteer-1.0.2 pyquery-2.0.0 requests-html-0.10.0 sgmllib3k-1.0.0 urllib3-1.26.18 w3lib-2.1.2 websockets-10.4 yahoo_fin-0.8.9.1\n"
          ]
        }
      ]
    },
    {
      "cell_type": "code",
      "source": [
        "# Import necessary libraries\n",
        "\n",
        "import numpy as np\n",
        "import pandas as pd\n",
        "from yahoo_fin.stock_info import get_data\n",
        "import datetime\n",
        "from datetime import datetime\n",
        "# import yfinance as yf\n",
        "import psycopg2\n",
        "from sqlalchemy import create_engine"
      ],
      "metadata": {
        "id": "2ejC1RfyZc87"
      },
      "execution_count": null,
      "outputs": []
    },
    {
      "cell_type": "code",
      "source": [
        "# Setup database connection details\n",
        "db_credentials = {\n",
        "    'user': 'goutham',\n",
        "    'password': 'SharpMinded',\n",
        "    'host': 'my-term5-db-instance.cdcogaqzqvwg.us-east-1.rds.amazonaws.com',\n",
        "    'database': 'term5_default_database'\n",
        "}\n",
        "\n",
        "# Connection using psycopg2\n",
        "conn = psycopg2.connect(**db_credentials)"
      ],
      "metadata": {
        "id": "-M7C6gkXZq6j"
      },
      "execution_count": null,
      "outputs": []
    },
    {
      "cell_type": "code",
      "source": [
        "# Define the stock ticker and date range\n",
        "Stock_ticker = \"AAPL\"\n",
        "start_date = \"2008-04-01\"\n",
        "end_date = datetime.now().strftime('%Y-%m-%d')  # Formats the current date as a string"
      ],
      "metadata": {
        "id": "LgXeWmCfaKmF"
      },
      "execution_count": null,
      "outputs": []
    },
    {
      "cell_type": "code",
      "source": [
        "# Daily data\n",
        "daily_data=get_data(Stock_ticker, start_date=start_date, end_date=end_date, index_as_date = False, interval=\"1d\")\n",
        "daily_data = pd.DataFrame(daily_data)\n",
        "\n",
        "# Monthly data\n",
        "monthly_data=get_data(Stock_ticker, start_date=start_date, end_date=end_date, index_as_date = False, interval=\"1mo\")\n",
        "monthly_data = pd.DataFrame(monthly_data)\n",
        "\n",
        "print(\"daily rows imported: \", len(daily_data))\n",
        "print(\"monthly rows imported: \", len(monthly_data))\n",
        "daily_data.tail()"
      ],
      "metadata": {
        "id": "QfANCf6WbIAr",
        "colab": {
          "base_uri": "https://localhost:8080/",
          "height": 241
        },
        "outputId": "fbb41747-5dc5-4b0b-e5da-eb8252cd6e61"
      },
      "execution_count": null,
      "outputs": [
        {
          "output_type": "stream",
          "name": "stdout",
          "text": [
            "daily rows imported:  3950\n",
            "monthly rows imported:  190\n"
          ]
        },
        {
          "output_type": "execute_result",
          "data": {
            "text/plain": [
              "           date        open        high         low       close    adjclose  \\\n",
              "3945 2023-11-30  189.839996  190.320007  188.190002  189.949997  189.949997   \n",
              "3946 2023-12-01  190.330002  191.559998  189.229996  191.240005  191.240005   \n",
              "3947 2023-12-04  189.979996  190.050003  187.449997  189.429993  189.429993   \n",
              "3948 2023-12-05  190.210007  194.399994  190.179993  193.419998  193.419998   \n",
              "3949 2023-12-06  194.449997  194.759995  192.110001  192.320007  192.320007   \n",
              "\n",
              "        volume ticker  \n",
              "3945  48794400   AAPL  \n",
              "3946  45679300   AAPL  \n",
              "3947  43389500   AAPL  \n",
              "3948  66628400   AAPL  \n",
              "3949  41060000   AAPL  "
            ],
            "text/html": [
              "\n",
              "  <div id=\"df-712a74b6-ff24-4032-b437-7d5899fabc0c\" class=\"colab-df-container\">\n",
              "    <div>\n",
              "<style scoped>\n",
              "    .dataframe tbody tr th:only-of-type {\n",
              "        vertical-align: middle;\n",
              "    }\n",
              "\n",
              "    .dataframe tbody tr th {\n",
              "        vertical-align: top;\n",
              "    }\n",
              "\n",
              "    .dataframe thead th {\n",
              "        text-align: right;\n",
              "    }\n",
              "</style>\n",
              "<table border=\"1\" class=\"dataframe\">\n",
              "  <thead>\n",
              "    <tr style=\"text-align: right;\">\n",
              "      <th></th>\n",
              "      <th>date</th>\n",
              "      <th>open</th>\n",
              "      <th>high</th>\n",
              "      <th>low</th>\n",
              "      <th>close</th>\n",
              "      <th>adjclose</th>\n",
              "      <th>volume</th>\n",
              "      <th>ticker</th>\n",
              "    </tr>\n",
              "  </thead>\n",
              "  <tbody>\n",
              "    <tr>\n",
              "      <th>3945</th>\n",
              "      <td>2023-11-30</td>\n",
              "      <td>189.839996</td>\n",
              "      <td>190.320007</td>\n",
              "      <td>188.190002</td>\n",
              "      <td>189.949997</td>\n",
              "      <td>189.949997</td>\n",
              "      <td>48794400</td>\n",
              "      <td>AAPL</td>\n",
              "    </tr>\n",
              "    <tr>\n",
              "      <th>3946</th>\n",
              "      <td>2023-12-01</td>\n",
              "      <td>190.330002</td>\n",
              "      <td>191.559998</td>\n",
              "      <td>189.229996</td>\n",
              "      <td>191.240005</td>\n",
              "      <td>191.240005</td>\n",
              "      <td>45679300</td>\n",
              "      <td>AAPL</td>\n",
              "    </tr>\n",
              "    <tr>\n",
              "      <th>3947</th>\n",
              "      <td>2023-12-04</td>\n",
              "      <td>189.979996</td>\n",
              "      <td>190.050003</td>\n",
              "      <td>187.449997</td>\n",
              "      <td>189.429993</td>\n",
              "      <td>189.429993</td>\n",
              "      <td>43389500</td>\n",
              "      <td>AAPL</td>\n",
              "    </tr>\n",
              "    <tr>\n",
              "      <th>3948</th>\n",
              "      <td>2023-12-05</td>\n",
              "      <td>190.210007</td>\n",
              "      <td>194.399994</td>\n",
              "      <td>190.179993</td>\n",
              "      <td>193.419998</td>\n",
              "      <td>193.419998</td>\n",
              "      <td>66628400</td>\n",
              "      <td>AAPL</td>\n",
              "    </tr>\n",
              "    <tr>\n",
              "      <th>3949</th>\n",
              "      <td>2023-12-06</td>\n",
              "      <td>194.449997</td>\n",
              "      <td>194.759995</td>\n",
              "      <td>192.110001</td>\n",
              "      <td>192.320007</td>\n",
              "      <td>192.320007</td>\n",
              "      <td>41060000</td>\n",
              "      <td>AAPL</td>\n",
              "    </tr>\n",
              "  </tbody>\n",
              "</table>\n",
              "</div>\n",
              "    <div class=\"colab-df-buttons\">\n",
              "\n",
              "  <div class=\"colab-df-container\">\n",
              "    <button class=\"colab-df-convert\" onclick=\"convertToInteractive('df-712a74b6-ff24-4032-b437-7d5899fabc0c')\"\n",
              "            title=\"Convert this dataframe to an interactive table.\"\n",
              "            style=\"display:none;\">\n",
              "\n",
              "  <svg xmlns=\"http://www.w3.org/2000/svg\" height=\"24px\" viewBox=\"0 -960 960 960\">\n",
              "    <path d=\"M120-120v-720h720v720H120Zm60-500h600v-160H180v160Zm220 220h160v-160H400v160Zm0 220h160v-160H400v160ZM180-400h160v-160H180v160Zm440 0h160v-160H620v160ZM180-180h160v-160H180v160Zm440 0h160v-160H620v160Z\"/>\n",
              "  </svg>\n",
              "    </button>\n",
              "\n",
              "  <style>\n",
              "    .colab-df-container {\n",
              "      display:flex;\n",
              "      gap: 12px;\n",
              "    }\n",
              "\n",
              "    .colab-df-convert {\n",
              "      background-color: #E8F0FE;\n",
              "      border: none;\n",
              "      border-radius: 50%;\n",
              "      cursor: pointer;\n",
              "      display: none;\n",
              "      fill: #1967D2;\n",
              "      height: 32px;\n",
              "      padding: 0 0 0 0;\n",
              "      width: 32px;\n",
              "    }\n",
              "\n",
              "    .colab-df-convert:hover {\n",
              "      background-color: #E2EBFA;\n",
              "      box-shadow: 0px 1px 2px rgba(60, 64, 67, 0.3), 0px 1px 3px 1px rgba(60, 64, 67, 0.15);\n",
              "      fill: #174EA6;\n",
              "    }\n",
              "\n",
              "    .colab-df-buttons div {\n",
              "      margin-bottom: 4px;\n",
              "    }\n",
              "\n",
              "    [theme=dark] .colab-df-convert {\n",
              "      background-color: #3B4455;\n",
              "      fill: #D2E3FC;\n",
              "    }\n",
              "\n",
              "    [theme=dark] .colab-df-convert:hover {\n",
              "      background-color: #434B5C;\n",
              "      box-shadow: 0px 1px 3px 1px rgba(0, 0, 0, 0.15);\n",
              "      filter: drop-shadow(0px 1px 2px rgba(0, 0, 0, 0.3));\n",
              "      fill: #FFFFFF;\n",
              "    }\n",
              "  </style>\n",
              "\n",
              "    <script>\n",
              "      const buttonEl =\n",
              "        document.querySelector('#df-712a74b6-ff24-4032-b437-7d5899fabc0c button.colab-df-convert');\n",
              "      buttonEl.style.display =\n",
              "        google.colab.kernel.accessAllowed ? 'block' : 'none';\n",
              "\n",
              "      async function convertToInteractive(key) {\n",
              "        const element = document.querySelector('#df-712a74b6-ff24-4032-b437-7d5899fabc0c');\n",
              "        const dataTable =\n",
              "          await google.colab.kernel.invokeFunction('convertToInteractive',\n",
              "                                                    [key], {});\n",
              "        if (!dataTable) return;\n",
              "\n",
              "        const docLinkHtml = 'Like what you see? Visit the ' +\n",
              "          '<a target=\"_blank\" href=https://colab.research.google.com/notebooks/data_table.ipynb>data table notebook</a>'\n",
              "          + ' to learn more about interactive tables.';\n",
              "        element.innerHTML = '';\n",
              "        dataTable['output_type'] = 'display_data';\n",
              "        await google.colab.output.renderOutput(dataTable, element);\n",
              "        const docLink = document.createElement('div');\n",
              "        docLink.innerHTML = docLinkHtml;\n",
              "        element.appendChild(docLink);\n",
              "      }\n",
              "    </script>\n",
              "  </div>\n",
              "\n",
              "\n",
              "<div id=\"df-c771164f-12ca-4029-b6bd-e3665fc63e92\">\n",
              "  <button class=\"colab-df-quickchart\" onclick=\"quickchart('df-c771164f-12ca-4029-b6bd-e3665fc63e92')\"\n",
              "            title=\"Suggest charts\"\n",
              "            style=\"display:none;\">\n",
              "\n",
              "<svg xmlns=\"http://www.w3.org/2000/svg\" height=\"24px\"viewBox=\"0 0 24 24\"\n",
              "     width=\"24px\">\n",
              "    <g>\n",
              "        <path d=\"M19 3H5c-1.1 0-2 .9-2 2v14c0 1.1.9 2 2 2h14c1.1 0 2-.9 2-2V5c0-1.1-.9-2-2-2zM9 17H7v-7h2v7zm4 0h-2V7h2v10zm4 0h-2v-4h2v4z\"/>\n",
              "    </g>\n",
              "</svg>\n",
              "  </button>\n",
              "\n",
              "<style>\n",
              "  .colab-df-quickchart {\n",
              "      --bg-color: #E8F0FE;\n",
              "      --fill-color: #1967D2;\n",
              "      --hover-bg-color: #E2EBFA;\n",
              "      --hover-fill-color: #174EA6;\n",
              "      --disabled-fill-color: #AAA;\n",
              "      --disabled-bg-color: #DDD;\n",
              "  }\n",
              "\n",
              "  [theme=dark] .colab-df-quickchart {\n",
              "      --bg-color: #3B4455;\n",
              "      --fill-color: #D2E3FC;\n",
              "      --hover-bg-color: #434B5C;\n",
              "      --hover-fill-color: #FFFFFF;\n",
              "      --disabled-bg-color: #3B4455;\n",
              "      --disabled-fill-color: #666;\n",
              "  }\n",
              "\n",
              "  .colab-df-quickchart {\n",
              "    background-color: var(--bg-color);\n",
              "    border: none;\n",
              "    border-radius: 50%;\n",
              "    cursor: pointer;\n",
              "    display: none;\n",
              "    fill: var(--fill-color);\n",
              "    height: 32px;\n",
              "    padding: 0;\n",
              "    width: 32px;\n",
              "  }\n",
              "\n",
              "  .colab-df-quickchart:hover {\n",
              "    background-color: var(--hover-bg-color);\n",
              "    box-shadow: 0 1px 2px rgba(60, 64, 67, 0.3), 0 1px 3px 1px rgba(60, 64, 67, 0.15);\n",
              "    fill: var(--button-hover-fill-color);\n",
              "  }\n",
              "\n",
              "  .colab-df-quickchart-complete:disabled,\n",
              "  .colab-df-quickchart-complete:disabled:hover {\n",
              "    background-color: var(--disabled-bg-color);\n",
              "    fill: var(--disabled-fill-color);\n",
              "    box-shadow: none;\n",
              "  }\n",
              "\n",
              "  .colab-df-spinner {\n",
              "    border: 2px solid var(--fill-color);\n",
              "    border-color: transparent;\n",
              "    border-bottom-color: var(--fill-color);\n",
              "    animation:\n",
              "      spin 1s steps(1) infinite;\n",
              "  }\n",
              "\n",
              "  @keyframes spin {\n",
              "    0% {\n",
              "      border-color: transparent;\n",
              "      border-bottom-color: var(--fill-color);\n",
              "      border-left-color: var(--fill-color);\n",
              "    }\n",
              "    20% {\n",
              "      border-color: transparent;\n",
              "      border-left-color: var(--fill-color);\n",
              "      border-top-color: var(--fill-color);\n",
              "    }\n",
              "    30% {\n",
              "      border-color: transparent;\n",
              "      border-left-color: var(--fill-color);\n",
              "      border-top-color: var(--fill-color);\n",
              "      border-right-color: var(--fill-color);\n",
              "    }\n",
              "    40% {\n",
              "      border-color: transparent;\n",
              "      border-right-color: var(--fill-color);\n",
              "      border-top-color: var(--fill-color);\n",
              "    }\n",
              "    60% {\n",
              "      border-color: transparent;\n",
              "      border-right-color: var(--fill-color);\n",
              "    }\n",
              "    80% {\n",
              "      border-color: transparent;\n",
              "      border-right-color: var(--fill-color);\n",
              "      border-bottom-color: var(--fill-color);\n",
              "    }\n",
              "    90% {\n",
              "      border-color: transparent;\n",
              "      border-bottom-color: var(--fill-color);\n",
              "    }\n",
              "  }\n",
              "</style>\n",
              "\n",
              "  <script>\n",
              "    async function quickchart(key) {\n",
              "      const quickchartButtonEl =\n",
              "        document.querySelector('#' + key + ' button');\n",
              "      quickchartButtonEl.disabled = true;  // To prevent multiple clicks.\n",
              "      quickchartButtonEl.classList.add('colab-df-spinner');\n",
              "      try {\n",
              "        const charts = await google.colab.kernel.invokeFunction(\n",
              "            'suggestCharts', [key], {});\n",
              "      } catch (error) {\n",
              "        console.error('Error during call to suggestCharts:', error);\n",
              "      }\n",
              "      quickchartButtonEl.classList.remove('colab-df-spinner');\n",
              "      quickchartButtonEl.classList.add('colab-df-quickchart-complete');\n",
              "    }\n",
              "    (() => {\n",
              "      let quickchartButtonEl =\n",
              "        document.querySelector('#df-c771164f-12ca-4029-b6bd-e3665fc63e92 button');\n",
              "      quickchartButtonEl.style.display =\n",
              "        google.colab.kernel.accessAllowed ? 'block' : 'none';\n",
              "    })();\n",
              "  </script>\n",
              "</div>\n",
              "    </div>\n",
              "  </div>\n"
            ]
          },
          "metadata": {},
          "execution_count": 10
        }
      ]
    },
    {
      "cell_type": "code",
      "source": [
        "# Drop NA\n",
        "\n",
        "daily_data.dropna(how='any',inplace=True)\n",
        "print(\"daily rows after dropping na: \", len(daily_data))\n",
        "monthly_data.dropna(how='any',inplace=True)\n",
        "print(\"monthly rows after dropping na: \", len(monthly_data))"
      ],
      "metadata": {
        "id": "mZgjyi0fbJ1y",
        "colab": {
          "base_uri": "https://localhost:8080/"
        },
        "outputId": "649b7ee4-e534-4f68-eab2-6e0134a1f430"
      },
      "execution_count": null,
      "outputs": [
        {
          "output_type": "stream",
          "name": "stdout",
          "text": [
            "daily rows after dropping na:  3950\n",
            "monthly rows after dropping na:  190\n"
          ]
        }
      ]
    },
    {
      "cell_type": "code",
      "source": [
        "# Using pandas to_sql to insert data into the PostgreSQL table\n",
        "engine = create_engine(f'postgresql+psycopg2://{db_credentials[\"user\"]}:{db_credentials[\"password\"]}@{db_credentials[\"host\"]}/{db_credentials[\"database\"]}')\n",
        "\n",
        "daily_table_name = 'daily_data_aapl'\n",
        "daily_data.to_sql(daily_table_name, engine, if_exists='replace', index=False)\n",
        "\n",
        "monthly_table_name = 'monthly_data_aapl'\n",
        "monthly_data.to_sql(monthly_table_name, engine, if_exists='replace', index=False)"
      ],
      "metadata": {
        "id": "udE9Xr3fbZkg",
        "colab": {
          "base_uri": "https://localhost:8080/"
        },
        "outputId": "65542cd3-b075-4e6b-e52a-050207824a6c"
      },
      "execution_count": null,
      "outputs": [
        {
          "output_type": "execute_result",
          "data": {
            "text/plain": [
              "190"
            ]
          },
          "metadata": {},
          "execution_count": 12
        }
      ]
    },
    {
      "cell_type": "code",
      "source": [
        "#Check db to confirm table writes\n",
        "\n",
        "daily_table_name = 'daily_data_aapl'\n",
        "monthly_table_name = 'monthly_data_aapl'\n",
        "\n",
        "# Query to select all rows from the table\n",
        "daily_select_query = f\"SELECT * FROM {daily_table_name}\"\n",
        "monthly_select_query = f\"SELECT * FROM {daily_table_name}\"\n",
        "\n",
        "# Using pandas read_sql to read data into a DataFrame\n",
        "daily_df = pd.read_sql(daily_select_query, conn)\n",
        "monthly_df = pd.read_sql(monthly_select_query, conn)\n",
        "\n",
        "# Closing the connection\n",
        "conn.close()"
      ],
      "metadata": {
        "id": "n2CKPyrDdxDI",
        "colab": {
          "base_uri": "https://localhost:8080/"
        },
        "outputId": "441cd15f-431b-4fc0-d9cc-b631894d1c78"
      },
      "execution_count": null,
      "outputs": [
        {
          "output_type": "stream",
          "name": "stderr",
          "text": [
            "<ipython-input-13-4e6e6fcaa8b6>:11: UserWarning: pandas only supports SQLAlchemy connectable (engine/connection) or database string URI or sqlite3 DBAPI2 connection. Other DBAPI2 objects are not tested. Please consider using SQLAlchemy.\n",
            "  daily_df = pd.read_sql(daily_select_query, conn)\n",
            "<ipython-input-13-4e6e6fcaa8b6>:12: UserWarning: pandas only supports SQLAlchemy connectable (engine/connection) or database string URI or sqlite3 DBAPI2 connection. Other DBAPI2 objects are not tested. Please consider using SQLAlchemy.\n",
            "  monthly_df = pd.read_sql(monthly_select_query, conn)\n"
          ]
        }
      ]
    },
    {
      "cell_type": "code",
      "source": [
        "print(\"daily rows after dropping na: \", len(daily_data))\n",
        "print(\"monthly rows after dropping na: \", len(monthly_data))"
      ],
      "metadata": {
        "id": "gR1oZ2vv0jC0",
        "colab": {
          "base_uri": "https://localhost:8080/"
        },
        "outputId": "389240d8-c956-4730-a2cb-13902a7acf76"
      },
      "execution_count": null,
      "outputs": [
        {
          "output_type": "stream",
          "name": "stdout",
          "text": [
            "daily rows after dropping na:  3950\n",
            "monthly rows after dropping na:  190\n"
          ]
        }
      ]
    },
    {
      "cell_type": "code",
      "source": [],
      "metadata": {
        "id": "S_SYb65zf7ti"
      },
      "execution_count": null,
      "outputs": []
    }
  ]
}